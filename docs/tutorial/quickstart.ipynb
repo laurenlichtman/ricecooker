{
 "cells": [
  {
   "cell_type": "markdown",
   "metadata": {},
   "source": [
    "# The `ricecooker` quick start\n",
    "\n",
    "This short tutorial will walk you through the steps of creating a sushi chef class `MySushiChef` that uses the `ricecooker` framework to upload a content channel to the Kolibri Content Curation Server.\n",
    "\n",
    "We'll go over the same steps as described in the [README](../../README.md) but this time showing the expected outcome is in each step. If you clone the `ricecooker` repository, you should be able to run the same commands by yourself and poke around."
   ]
  },
  {
   "cell_type": "markdown",
   "metadata": {},
   "source": [
    "### Step 2: Creating a Sushi Chef class ###\n",
    "\n",
    "To use the Ricecooker, your chef script must define a sushi chef class that is a\n",
    "subclass of the class `ricecooker.chefs.SushiChef`. Since it inheriting from the\n",
    "`SushiChef` class, your chef class will have the method `run` which performs all\n",
    "the work of uploading your channel to the content curation server.\n",
    "Your sushi chef class will also inherit the method `main`, which your sushi chef\n",
    "script should call when it runs on the command line.\n",
    "\n",
    "The sushi chef class for your channel must have the following attributes:\n",
    "\n",
    "   - `channel_info` (dict) provides channel info\n",
    "\n",
    "   - `construct_channel(**kwargs) -> ChannelNode`: This method is responsible for\n",
    "      building the structure of your channel (to be discussed below).\n",
    "\n",
    "\n",
    "\n",
    "For example, here is a simple sushi chef class whose `construct_channel` builds\n",
    "a tree with a single topic. Mmmm, potato... Potato give you power!"
   ]
  },
  {
   "cell_type": "code",
   "execution_count": 9,
   "metadata": {},
   "outputs": [],
   "source": [
    "from ricecooker.chefs import SushiChef\n",
    "from ricecooker.classes.nodes import ChannelNode, TopicNode\n",
    "\n",
    "class MySushiChef(SushiChef):\n",
    "    \"\"\"\n",
    "    This is my sushi chef...\n",
    "    \"\"\"\n",
    "    channel_info = {\n",
    "        'CHANNEL_SOURCE_DOMAIN': 'learningequality.org',       # make sure to change this when testing\n",
    "        'CHANNEL_SOURCE_ID': 'tutorial_test_01',   # channel's unique id\n",
    "        'CHANNEL_TITLE': 'Minimum viable channel',\n",
    "        'CHANNEL_THUMBNAIL': 'http://www.publicdomainpictures.net/pictures/30000/velka/isolated-potatoes.jpg',\n",
    "        'CHANNEL_DESCRIPTION': 'This is a test channel'\n",
    "    }\n",
    "\n",
    "    def construct_channel(self, **kwargs):\n",
    "        channel_info = self.channel_info\n",
    "        # create channel\n",
    "        channel = ChannelNode(\n",
    "            source_domain = channel_info['CHANNEL_SOURCE_DOMAIN'],\n",
    "            source_id = channel_info['CHANNEL_SOURCE_ID'],\n",
    "            title = channel_info['CHANNEL_TITLE'],\n",
    "            thumbnail = channel_info.get('CHANNEL_THUMBNAIL'),\n",
    "            description = channel_info.get('CHANNEL_DESCRIPTION'),\n",
    "        )\n",
    "        # create a topic and add it to channel\n",
    "        potato_topic = TopicNode(source_id=\"<potatos_id>\", title=\"Potatoes!\")\n",
    "        channel.add_child(potato_topic)\n",
    "        return channel\n",
    "\n"
   ]
  },
  {
   "cell_type": "code",
   "execution_count": null,
   "metadata": {
    "collapsed": true
   },
   "outputs": [],
   "source": []
  },
  {
   "cell_type": "markdown",
   "metadata": {},
   "source": [
    "Run of you chef by creating an instance of the chef class and calling it's `run` method:"
   ]
  },
  {
   "cell_type": "code",
   "execution_count": 10,
   "metadata": {},
   "outputs": [
    {
     "name": "stderr",
     "output_type": "stream",
     "text": [
      "Logged in with username you@yourdomain.org\n",
      "Ricecooker v0.5.13 is up-to-date.\n",
      "Running get_channel... \n",
      "run_id: 9c32b5e8c57e4747aa7bb3c4bd92b37b\n",
      "\n",
      "\n",
      "***** Starting channel build process *****\n",
      "\n",
      "\n"
     ]
    },
    {
     "name": "stdout",
     "output_type": "stream",
     "text": [
      "WebSocket closed, retrying send.\n",
      "WebSocket closed, retrying send.\n"
     ]
    },
    {
     "name": "stderr",
     "output_type": "stream",
     "text": [
      "Calling construct_channel... \n",
      "   Setting up initial channel structure... \n",
      "   Validating channel structure...\n",
      "      Minimum viable channel (ChannelNode): 1 descendant\n",
      "         Potatoes! (TopicNode): 0 descendants\n",
      "   Tree is valid\n",
      "\n",
      "Processing content...\n",
      "\tDownloading http://www.publicdomainpictures.net/pictures/30000/velka/isolated-potatoes.jpg\n"
     ]
    },
    {
     "name": "stdout",
     "output_type": "stream",
     "text": [
      "Downloading files...\n"
     ]
    },
    {
     "name": "stderr",
     "output_type": "stream",
     "text": [
      "\t--- Downloaded 62bb1106f12490faeaf7a692f48575dc.jpg\n",
      "   All files were successfully downloaded\n",
      "\n",
      "Checking if files exist on Kolibri Studio...\n"
     ]
    },
    {
     "name": "stdout",
     "output_type": "stream",
     "text": [
      "Getting file diff...\n"
     ]
    },
    {
     "name": "stderr",
     "output_type": "stream",
     "text": [
      "\tGot file diff for 3 out of 3 files\n",
      "\n",
      "Uploading 2 new file(s) to Kolibri Studio...\n"
     ]
    },
    {
     "name": "stdout",
     "output_type": "stream",
     "text": [
      "Uploading files...\n"
     ]
    },
    {
     "name": "stderr",
     "output_type": "stream",
     "text": [
      "\tUploaded 0cf8cb6648dbd67d951c8daf3db25e6f.json (1/2) \n",
      "\tUploaded 62bb1106f12490faeaf7a692f48575dc.jpg (2/2) \n",
      "\n",
      "Creating tree on Kolibri Studio...\n",
      "   Creating channel Minimum viable channel\n"
     ]
    },
    {
     "name": "stdout",
     "output_type": "stream",
     "text": [
      "Creating channel...\n"
     ]
    },
    {
     "name": "stderr",
     "output_type": "stream",
     "text": [
      "(0 of 1 uploaded)    Processing Minimum viable channel (ChannelNode)\n",
      "   All nodes were created successfully.\n",
      "Upload time: 1.279542s\n",
      "\n",
      "\n",
      "DONE: Channel created at https://contentworkshop.learningequality.org/channels/5c2e522d86fa56818fb20c49e51d9398/edit\n",
      "\n"
     ]
    }
   ],
   "source": [
    "mychef = MySushiChef()\n",
    "args = {'token': 'YOURTOKENHERE9139139f3a23232', 'reset': True, 'verbose': True}\n",
    "options = {}\n",
    "mychef.run(args, options)"
   ]
  },
  {
   "cell_type": "markdown",
   "metadata": {},
   "source": [
    "Congratulations, you put the potatoes on the internet! You're probably already a legend in Ireland!"
   ]
  },
  {
   "cell_type": "code",
   "execution_count": null,
   "metadata": {},
   "outputs": [],
   "source": []
  },
  {
   "cell_type": "markdown",
   "metadata": {},
   "source": [
    "### Step 3: Creating Nodes"
   ]
  },
  {
   "cell_type": "code",
   "execution_count": null,
   "metadata": {
    "collapsed": true
   },
   "outputs": [],
   "source": []
  }
 ],
 "metadata": {
  "kernelspec": {
   "display_name": "Python 3",
   "language": "python",
   "name": "python3"
  },
  "language_info": {
   "codemirror_mode": {
    "name": "ipython",
    "version": 3
   },
   "file_extension": ".py",
   "mimetype": "text/x-python",
   "name": "python",
   "nbconvert_exporter": "python",
   "pygments_lexer": "ipython3",
   "version": "3.6.1"
  }
 },
 "nbformat": 4,
 "nbformat_minor": 2
}
